{
  "nbformat": 4,
  "nbformat_minor": 0,
  "metadata": {
    "colab": {
      "name": "tf2_heat",
      "provenance": [],
      "collapsed_sections": []
    },
    "kernelspec": {
      "name": "python3",
      "display_name": "Python 3"
    },
    "accelerator": "TPU"
  },
  "cells": [
    {
      "cell_type": "code",
      "metadata": {
        "id": "vsYvFY8E2dHt",
        "colab_type": "code",
        "colab": {
          "base_uri": "https://localhost:8080/",
          "height": 35
        },
        "outputId": "a3a6202e-1617-4f0a-be3e-3f4f5852f3e2"
      },
      "source": [
        "%tensorflow_version 2.x"
      ],
      "execution_count": 1,
      "outputs": [
        {
          "output_type": "stream",
          "text": [
            "TensorFlow 2.x selected.\n"
          ],
          "name": "stdout"
        }
      ]
    },
    {
      "cell_type": "code",
      "metadata": {
        "id": "0Tcc0EmK2mRy",
        "colab_type": "code",
        "colab": {}
      },
      "source": [
        "import numpy as np\n",
        "import tensorflow as tf\n",
        "import tensorflow.keras as K\n",
        "import matplotlib.pyplot as plt\n",
        "\n",
        "K.backend.set_floatx('float64')"
      ],
      "execution_count": 0,
      "outputs": []
    },
    {
      "cell_type": "code",
      "metadata": {
        "id": "jYo4wqwr2qmE",
        "colab_type": "code",
        "colab": {}
      },
      "source": [
        "# Build the NN model\n",
        "network = K.Sequential()\n",
        "network.add(K.layers.Dense(16, 'tanh'))\n",
        "network.add(K.layers.Dense(16, 'tanh'))\n",
        "network.add(K.layers.Dense(16, 'tanh'))\n",
        "network.add(K.layers.Dense(16, 'tanh'))\n",
        "network.add(K.layers.Dense(1))"
      ],
      "execution_count": 0,
      "outputs": []
    },
    {
      "cell_type": "code",
      "metadata": {
        "id": "STxBRkuD3U86",
        "colab_type": "code",
        "colab": {}
      },
      "source": [
        "def initial_condition(x, p=1):\n",
        "  return tf.sin(p*2*np.pi*x)\n",
        "\n",
        "def solution_1d(t, x):\n",
        "  return t*x*(1.0-x)*network(tf.concat([2*t-1,2*x-1], 1)) + initial_condition(x)\n",
        "\n",
        "def heat_equation_1d(t, x):\n",
        "  with tf.GradientTape() as tape1:\n",
        "    tape1.watch(x)\n",
        "    with tf.GradientTape() as tape2:\n",
        "      tape2.watch([t,x])\n",
        "      u = solution_1d(t, x)\n",
        "    u_t, u_x = tape2.gradient(u, [t, x])\n",
        "  u_xx = tape1.gradient(u_x, x)\n",
        "  return u_t - u_xx"
      ],
      "execution_count": 0,
      "outputs": []
    },
    {
      "cell_type": "code",
      "metadata": {
        "id": "vNg810LO-GFr",
        "colab_type": "code",
        "colab": {}
      },
      "source": [
        "def loss(t, x):\n",
        "  pde_loss = tf.reduce_mean(\n",
        "    tf.square(heat_equation_1d(t, x)))\n",
        "  return pde_loss "
      ],
      "execution_count": 0,
      "outputs": []
    },
    {
      "cell_type": "code",
      "metadata": {
        "id": "BvA0X1iND2GS",
        "colab_type": "code",
        "colab": {}
      },
      "source": [
        "def grad(t, x):\n",
        "  with tf.GradientTape() as tape:\n",
        "    loss_value = loss(t, x)\n",
        "  return loss_value, tape.gradient(loss_value, network.trainable_variables)\n",
        "\n",
        "def train(num_epochs=1001):\n",
        "  optimizer = K.optimizers.Adam(learning_rate=0.01)\n",
        "\n",
        "  t, x = np.meshgrid(np.linspace(0,1,50), np.linspace(0,1,50))\n",
        "  t = tf.convert_to_tensor(np.reshape(t, (-1,1)))\n",
        "  x = tf.convert_to_tensor(np.reshape(x, (-1,1)))\n",
        "\n",
        "  # t_ic = tf.convert_to_tensor(np.zeros((100,1)))\n",
        "  # x_ic = tf.convert_to_tensor(np.reshape(np.linspace(0,1,100), (100,1)))\n",
        "\n",
        "  for epoch in range(num_epochs):\n",
        "    loss_value, grads = grad(t, x)\n",
        "    optimizer.apply_gradients(zip(grads, network.trainable_variables))\n",
        "    if epoch % 100 == 0:\n",
        "      print(f'{epoch}: loss = {loss_value}')\n",
        "\n",
        "train()"
      ],
      "execution_count": 0,
      "outputs": []
    },
    {
      "cell_type": "code",
      "metadata": {
        "id": "R2Phr1pZ5cvk",
        "colab_type": "code",
        "colab": {}
      },
      "source": [
        "# Plot the solution\n",
        "def plot_solution():\n",
        "  x = np.reshape(np.linspace(0,1,100), (100,1))\n",
        "  for i in range(6):\n",
        "    t = 0.02*i * np.ones((100,1))\n",
        "    u = solution_1d(t, x).numpy()\n",
        "    plt.plot(x, u)\n",
        "\n",
        "  plt.plot(x, initial_condition(x), 'k--')\n",
        "\n",
        "plot_solution()"
      ],
      "execution_count": 0,
      "outputs": []
    },
    {
      "cell_type": "code",
      "metadata": {
        "id": "yh0BcAsV7esn",
        "colab_type": "code",
        "colab": {}
      },
      "source": [
        ""
      ],
      "execution_count": 0,
      "outputs": []
    }
  ]
}