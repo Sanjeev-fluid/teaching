{
 "cells": [
  {
   "cell_type": "markdown",
   "metadata": {},
   "source": [
    "# CSE 204 Lab 13: Reinforcement Learning II\n",
    "\n",
    "Jesse Read, J.B. Scoggins\n",
    "\n",
    "[![Open In Colab](https://colab.research.google.com/assets/colab-badge.svg)](https://colab.research.google.com/github/jbscoggi/teaching/blob/master/Polytechnique/CSE204/Lab13_answers.ipynb) \n",
    "\n",
    "[![Binder](https://mybinder.org/badge_logo.svg)](https://mybinder.org/v2/gh/jbscoggi/teaching/master?filepath=Polytechnique%2FCSE204%2FLab13_answers.ipynb)"
   ]
  },
  {
   "cell_type": "markdown",
   "metadata": {},
   "source": [
    "## Introduction\n",
    "\n",
    "This is the second lab dealing with reinforcement learning.  Today, the goal will be to implement and train an agent to balance a pole on top of a moveable cart using the hill climbing algorithm discussed in the lecture.  We will again use the [OpenAI Gym](https://gym.openai.com) library that you saw in the last lab for creating the environment for our agent to act in.  To get started, import the necessary packages."
   ]
  },
  {
   "cell_type": "code",
   "execution_count": 1,
   "metadata": {},
   "outputs": [
    {
     "ename": "ModuleNotFoundError",
     "evalue": "No module named 'gym'",
     "output_type": "error",
     "traceback": [
      "\u001b[0;31m---------------------------------------------------------------------------\u001b[0m",
      "\u001b[0;31mModuleNotFoundError\u001b[0m                       Traceback (most recent call last)",
      "\u001b[0;32m<ipython-input-1-2140f90903b3>\u001b[0m in \u001b[0;36m<module>\u001b[0;34m()\u001b[0m\n\u001b[1;32m      3\u001b[0m \u001b[0;32mfrom\u001b[0m \u001b[0mnumpy\u001b[0m\u001b[0;34m.\u001b[0m\u001b[0mrandom\u001b[0m \u001b[0;32mimport\u001b[0m \u001b[0mrand\u001b[0m\u001b[0;34m,\u001b[0m \u001b[0mrandn\u001b[0m\u001b[0;34m\u001b[0m\u001b[0;34m\u001b[0m\u001b[0m\n\u001b[1;32m      4\u001b[0m \u001b[0;34m\u001b[0m\u001b[0m\n\u001b[0;32m----> 5\u001b[0;31m \u001b[0;32mimport\u001b[0m \u001b[0mgym\u001b[0m\u001b[0;34m\u001b[0m\u001b[0;34m\u001b[0m\u001b[0m\n\u001b[0m\u001b[1;32m      6\u001b[0m \u001b[0;32mfrom\u001b[0m \u001b[0mIPython\u001b[0m \u001b[0;32mimport\u001b[0m \u001b[0mdisplay\u001b[0m\u001b[0;34m\u001b[0m\u001b[0;34m\u001b[0m\u001b[0m\n\u001b[1;32m      7\u001b[0m \u001b[0;32mimport\u001b[0m \u001b[0mmatplotlib\u001b[0m\u001b[0;34m\u001b[0m\u001b[0;34m\u001b[0m\u001b[0m\n",
      "\u001b[0;31mModuleNotFoundError\u001b[0m: No module named 'gym'"
     ]
    }
   ],
   "source": [
    "import numpy as np\n",
    "from numpy.random import choice as sample\n",
    "from numpy.random import rand, randn\n",
    "\n",
    "import gym\n",
    "from IPython import display\n",
    "import matplotlib\n",
    "import matplotlib.pyplot as plt"
   ]
  },
  {
   "cell_type": "markdown",
   "metadata": {},
   "source": [
    "Before proceeding with the excercise, you can run the following cell to see the cart-pole problem in action with an agent that takes random actions at each time step."
   ]
  },
  {
   "cell_type": "code",
   "execution_count": 2,
   "metadata": {},
   "outputs": [
    {
     "data": {
      "image/png": "[encoded data removed]",
      "text/plain": [
       "<matplotlib.figure.Figure at 0x7f028de9bcc0>"
      ]
     },
     "metadata": {},
     "output_type": "display_data"
    }
   ],
   "source": [
    "env = gym.make('CartPole-v1')\n",
    "env.reset()\n",
    "plt.figure(figsize=(9,9))\n",
    "img = plt.imshow(env.render(mode='rgb_array')) # only call this once\n",
    "for _ in range(100):\n",
    "    img.set_data(env.render(mode='rgb_array')) # just update the data\n",
    "    display.display(plt.gcf())\n",
    "    display.clear_output(wait=True)\n",
    "    action = env.action_space.sample()\n",
    "    env.step(action)\n",
    "env.close()"
   ]
  },
  {
   "cell_type": "markdown",
   "metadata": {},
   "source": [
    "Unless you got very lucky, you will notice that the pole on top of the cart fell and possibly spun around the cart several times.  In fact, this problem is physically unstable, and without a proper controller, the pole will always fall.  In order to stop the pole from falling, the agent is given two possible actions: 1) apply a positive force +1 or 2) apply a negative force -1.  The response to this force depends on the friction of the cart on the track, and the pole on the cart, the mass of both the cart and the pole, and the horizontal and angular velocities and the cart and pole respectively.  At any given point in time, the state of the system is fully characterized by 4 variables:\n",
    "\n",
    "1. The horizontal location of the cart\n",
    "2. The horizontal velocity of the cart\n",
    "3. The angular position of the pole\n",
    "4. The angular velocity of the pole\n",
    "\n",
    "Given those four quantities and the force imposed on the cart, the system behavior is governed by a set of differential equations, which are hidden from you and the agent.  Your task therefore, is to build an agent which learns from the response of the cart-pole system to various force inputs, such that it can create a policy for balancing the pole."
   ]
  },
  {
   "cell_type": "markdown",
   "metadata": {},
   "source": [
    "## Hill Climbing\n",
    "\n",
    "As you may recall, hill climbing is a simple but powerful learning technique.  Here is a quick refresher if you don't remember the details.  First, let's recall a bit of the terminology.\n",
    "\n",
    "1. We have an environment (in this case the cart-pole problem).\n",
    "2. An agent maps observations of the state of the environment $\\mathcal{S}$ to allowed actions $\\mathcal{A}$ through a policy $\\pi : \\mathcal{S} \\mapsto \\mathcal{A}$.\n",
    "3. A reward function provides a metric to measure the benifit of taking an action for a given state.\n",
    "4. Ideally, the best policy is one that maximizes the return, which is the sum of the rewards for a series of actions over a finite amount of time.\n",
    "5. A value function maps a given state to the expected return given the best policy.\n",
    "\n",
    "In this lab, we will work with policy learning, which means that we will search for the best policy that maximizes the return value.  Specifically, we consider policies of the form\n",
    "\n",
    "$$ a_t = \\pi_\\theta(s_t) = \\text{argmax} \\;\\sigma(W^T s_t + b) $$\n",
    "\n",
    "where $a_t$ is the action at time $t$, given the policy and state at time $t$.  The policy parameters $\\theta = \\{W, b\\}$ represent the weights and biases for the linear transformation of the state space into action space, and $\\sigma$ is a nonlinear operator, such as the sigmoid function.  Note this is just a single layer perceptron, like the ones you have dealt with in previous labs on neural networks.  The difference here, however, is that we will not train this network with gradient descent, but rather with the hill climbing algorithm, which is summarized as follows.\n",
    "\n",
    "---\n",
    "**Algorithm 1: Random Optimization in Continuous Search Space (Hill Climbing)**\n",
    "1. Initialize weights and biases, $\\theta$\n",
    "2. Select minimal return desired, $g_{\\text{min}}$.\n",
    "3. Loop while $g(\\theta) < g_{\\text{min}}$\n",
    "   1. Sample nearby parameters, $\\theta' \\sim N(\\theta, \\sigma^2)$\n",
    "   2. if $g(\\theta') > g(\\theta)$:\n",
    "      1. Update parameters, $\\theta \\gets \\theta'$\n",
    "---\n"
   ]
  },
  {
   "cell_type": "markdown",
   "metadata": {},
   "source": [
    "## Part 1: Implement policy function\n",
    "\n",
    "**Exercise 1.1**: Fill in the code below to implement the SLP policy function."
   ]
  },
  {
   "cell_type": "code",
   "execution_count": 3,
   "metadata": {},
   "outputs": [],
   "source": [
    "def linear(a):\n",
    "    '''Linear activation.'''\n",
    "    return a\n",
    "\n",
    "def sigmoid(a):\n",
    "    '''Sigmoid activation.'''\n",
    "    return 1.0 / (1.0 + np.exp(-a))\n",
    "\n",
    "class SLP():\n",
    "    '''A Single-Layer Perceptron with copy and random modification.'''\n",
    "\n",
    "    def __init__(self, inputs, outputs, activation = linear):\n",
    "        self.input_size = inputs\n",
    "        self.output_size = outputs\n",
    "        self.reset()\n",
    "        self.activation = activation\n",
    "\n",
    "    def reset(self, scaling=0.0):\n",
    "        '''Resets the weights and biases to normal distribution with scaling.'''\n",
    "        self.W = scaling * randn(self.input_size,self.output_size)\n",
    "        self.b = scaling * randn(self.output_size) # bias\n",
    "\n",
    "    def predict(self,x):\n",
    "        '''Feedforward prediction of SLP.'''\n",
    "        a = np.dot(x,self.W) + self.b\n",
    "        return self.activation(a)\n",
    "\n",
    "    def copy(self, modify=False):\n",
    "        '''Creates a copy of this SLP, with possible modification.'''\n",
    "        \n",
    "        # Create a copy\n",
    "        b = SLP(self.input_size, self.output_size)\n",
    "        b.W = self.W.copy()\n",
    "        b.b = self.b.copy()\n",
    "\n",
    "        if modify:\n",
    "            b.modify()\n",
    "\n",
    "        return b\n",
    "\n",
    "    def modify(self, alpha_w=0.01, alpha_b=0.01, prob_reset=0.1):\n",
    "        '''Adds perturbation to weights and biases, scaled by alphas, with random reset probability.'''\n",
    "\n",
    "        if rand() < prob_reset:\n",
    "            self.reset()\n",
    "\n",
    "        # Make a random adjustment to the weight matrix.\n",
    "        self.W = self.W + alpha_w * randn(*self.W.shape) \n",
    "        self.b = self.b + alpha_b * randn(*self.b.shape)"
   ]
  },
  {
   "cell_type": "markdown",
   "metadata": {},
   "source": [
    "## Part 2: Implement the SimpleHillClimber Agent\n",
    "\n",
    "In this part, we will implement a simple hill climber.  The agent has two functions, 1) update the policy given an observation and reward and 2) act on an observation (evaluate the policy).  To help get you started, the next cell has the code which we will use to place our agent in the environment."
   ]
  },
  {
   "cell_type": "code",
   "execution_count": 5,
   "metadata": {},
   "outputs": [],
   "source": [
    "def run_agent(env, agent, num_epsiodes = 50 , max_episode_length=200, render=False):\n",
    "\n",
    "    R = 0 \n",
    "    \n",
    "    if render:\n",
    "        plt.figure(figsize=(9,9))\n",
    "        img = plt.imshow(env.render(mode='rgb_array')) # only call this once\n",
    "\n",
    "    # For n episodes ...\n",
    "    for i in range(num_epsiodes):\n",
    "\n",
    "        s_t = env.reset()\n",
    "\n",
    "        # For each time step ...\n",
    "        for t in range(max_episode_length):\n",
    "\n",
    "            # Draw\n",
    "            if render:\n",
    "                img.set_data(env.render(mode='rgb_array')) # just update the data\n",
    "                display.display(plt.gcf())\n",
    "                display.clear_output(wait=True)\n",
    "\n",
    "            # Act\n",
    "            a_t = agent.act(s_t)\n",
    "\n",
    "            # Step\n",
    "            s_t, r_t, done, info = env.step(a_t)\n",
    "\n",
    "            # Update\n",
    "            agent.update_policy(s_t, r_t, done)\n",
    "\n",
    "            R = R + r_t\n",
    "            if done:\n",
    "                break\n",
    "    \n",
    "    env.close()\n",
    "\n",
    "    return (1.0 / num_epsiodes) * R"
   ]
  },
  {
   "cell_type": "markdown",
   "metadata": {},
   "source": [
    "The outer loop in the code above loops over the number of \"episodes.\" An episode is a single simulation from beginning to end, starting from a clean environment.  The inner loop is looping over the maximum number of iterations in each episode.  Note that it is possible for the environment to decide that the episode is complete before the maximum iterations is reached.  This may happen if the cart or pole leave some bounded domain, for example.  A single iteration is controlled by 4 steps, as shown in the code:\n",
    "\n",
    "1. Render the environment (optional)\n",
    "2. Ask the agent for an action given the current state of the system (observation)\n",
    "3. Simulate a single step in the environment (perform the action)\n",
    "4. Allow the agent to update its policy\n",
    "\n",
    "At the end of all the episodes, the function returns the average reward per episode.  Note that, for the cart and pole environment, rewards are either +1 when the pole does not fall below 15 degrees from vertical in a single step and zero otherwise.  Therefore, if we take 200 steps per episode, the best average reward we can obtain is 200.\n",
    "\n",
    "**Exercise 2.1**: Implement the SimpleHillClimber class based on Algorithm 1.  The agent will keep track of two policies, 1) the best policy so far, and 2) a random perturbation from the best policy.  \n",
    "\n",
    "At each call to update_policy, the agent will update the current return (sum of rewards) and total number of calls.  \n",
    "If the end of an episode is reached, the current value of the return should be added to a \"memory\" vector, and return and number of iterations should be set back to zero.   \n",
    "Once the number of episodes per test is reached, the agent should check if the average return per episode is improved over the current policy.  If it is, then the current policy is replaced by the trial policy.  Either way, a new trail policy should then be created using the modify function of the SLP policy and the memory vector should be reset to empty.\n",
    "\n",
    "Whenever act is called, the current trial policy should be evaluated and returned."
   ]
  },
  {
   "cell_type": "code",
   "execution_count": 4,
   "metadata": {},
   "outputs": [],
   "source": [
    "class SimpleHillClimber():\n",
    "    '''Simple Hill Climbing Agent'''\n",
    "\n",
    "    def __init__(self, obs_space, act_space, max_episode_length=50, num_episodes_per_test=100, alpha=0.1):\n",
    "\n",
    "        # Size of observation and action spaces\n",
    "        D = obs_space.shape[0]\n",
    "        L = act_space.n\n",
    "\n",
    "        # Max length of an episode \n",
    "        self.T = max_episode_length\n",
    "        # Step counter\n",
    "        self.t = 0\n",
    "\n",
    "        # Number of episodes per test\n",
    "        self.num_episodes_per_test = num_episodes_per_test\n",
    "        # Test counter\n",
    "        self.i = 0\n",
    "        # Test counter (successful ones; with an accept)\n",
    "        self.i_success = 0\n",
    "        # Return for the current episode\n",
    "        self.R = 0 \n",
    "        # Mean return per episode (best so far)\n",
    "        self._avg_R = -100000\n",
    "        # Store test result here\n",
    "        self.memory = []\n",
    "\n",
    "        # Alpha (step size / learning rate)\n",
    "        self.alpha_init = alpha\n",
    "        self.alpha = self.alpha_init\n",
    "        self.alpha_decay = 1 # 0.99999\n",
    "\n",
    "        self.policy = SLP(D,L,activation=sigmoid)\n",
    "        self.policy_trial = self.policy.copy(modify=True)\n",
    "\n",
    "\n",
    "\n",
    "    def update_policy(self,obs,reward,done=False):\n",
    "\n",
    "        # Update the return for the episode\n",
    "        self.R = self.R + reward\n",
    "\n",
    "        # Counting (each step of the episode of max length T)\n",
    "        self.t = self.t + 1\n",
    "\n",
    "        # If end of epsiode ...\n",
    "        if self.t >= self.T or done:\n",
    "\n",
    "            # End of the episode \n",
    "            self.memory.append(self.R)\n",
    "            # Reset\n",
    "            self.t = 0\n",
    "            self.R = 0\n",
    "            self.alpha = self.alpha * self.alpha_decay\n",
    "\n",
    "        # If end of the set of tests \n",
    "        if len(self.memory) >= self.num_episodes_per_test:\n",
    "\n",
    "            # Calculate the average return per episode\n",
    "            avg_R = sum(self.memory)/self.num_episodes_per_test\n",
    "            self.i = self.i + 1\n",
    "\n",
    "            if avg_R > self._avg_R:\n",
    "                # Accept\n",
    "                self._avg_R = avg_R\n",
    "                self.policy = self.policy_trial.copy()\n",
    "                self.i_success += 1\n",
    "            else:\n",
    "                # Reject (modify old policy)\n",
    "                self.policy_trial = self.policy.copy()\n",
    "\n",
    "            self.policy_trial.modify(alpha_w=self.alpha, alpha_b=self.alpha*0.1, prob_reset=0.01)\n",
    "\n",
    "            # Reset\n",
    "            self.memory = []\n",
    "            \n",
    "\n",
    "    def act(self,obs,reward=None,done=False):\n",
    "        y = self.policy_trial.predict(obs)\n",
    "        return np.argmax(y)"
   ]
  },
  {
   "cell_type": "markdown",
   "metadata": {},
   "source": [
    "**Exercise 2.2**: Run the training loop below.  You should see the average reward increasing as the number of episodes increases.  Note, that since we are using a rather simple algorithm here, you may need to restart this a few times to get a good result.  If you have tried it 3-5 times with no improvement, then you may have a bug in your hill climber agent."
   ]
  },
  {
   "cell_type": "code",
   "execution_count": 23,
   "metadata": {},
   "outputs": [
    {
     "name": "stdout",
     "output_type": "stream",
     "text": [
      "Episode 50, average return: 9.3\n",
      "Episode 100, average return: 9.22\n",
      "Episode 150, average return: 9.200000000000001\n",
      "Episode 200, average return: 9.28\n",
      "Episode 250, average return: 9.120000000000001\n",
      "Episode 300, average return: 9.16\n",
      "Episode 350, average return: 47.9\n",
      "Episode 400, average return: 51.58\n",
      "Episode 450, average return: 32.78\n",
      "Episode 500, average return: 30.14\n",
      "Episode 550, average return: 9.700000000000001\n",
      "Episode 600, average return: 9.58\n",
      "Episode 650, average return: 36.04\n",
      "Episode 700, average return: 33.78\n",
      "Episode 750, average return: 9.28\n",
      "Episode 800, average return: 9.38\n",
      "Episode 850, average return: 105.82000000000001\n",
      "Episode 900, average return: 109.5\n",
      "Episode 950, average return: 88.9\n",
      "Episode 1000, average return: 94.62\n",
      "Episode 1050, average return: 102.38\n",
      "Episode 1100, average return: 115.2\n",
      "Episode 1150, average return: 135.46\n",
      "Episode 1200, average return: 121.24000000000001\n",
      "Episode 1250, average return: 114.06\n",
      "Episode 1300, average return: 102.56\n",
      "Episode 1350, average return: 117.82000000000001\n",
      "Episode 1400, average return: 120.18\n",
      "Episode 1450, average return: 118.72\n",
      "Episode 1500, average return: 137.64000000000001\n",
      "Episode 1550, average return: 116.76\n",
      "Episode 1600, average return: 126.88000000000001\n",
      "Episode 1650, average return: 132.8\n",
      "Episode 1700, average return: 132.62\n",
      "Episode 1750, average return: 123.94\n",
      "Episode 1800, average return: 109.46000000000001\n",
      "Episode 1850, average return: 60.4\n",
      "Episode 1900, average return: 64.78\n",
      "Episode 1950, average return: 117.72\n",
      "Episode 2000, average return: 121.16\n",
      "Episode 2050, average return: 96.16\n",
      "Episode 2100, average return: 89.04\n",
      "Episode 2150, average return: 139.42000000000002\n",
      "Episode 2200, average return: 148.74\n",
      "Episode 2250, average return: 148.20000000000002\n",
      "Episode 2300, average return: 155.52\n",
      "Episode 2350, average return: 142.42000000000002\n",
      "Episode 2400, average return: 154.24\n",
      "Episode 2450, average return: 141.36\n",
      "Episode 2500, average return: 142.44\n",
      "Episode 2550, average return: 153.14000000000001\n",
      "Episode 2600, average return: 145.96\n",
      "Episode 2650, average return: 137.88\n",
      "Episode 2700, average return: 142.4\n",
      "Episode 2750, average return: 168.66\n",
      "Episode 2800, average return: 173.54\n",
      "Episode 2850, average return: 124.66\n",
      "Episode 2900, average return: 154.64000000000001\n",
      "Episode 2950, average return: 158.24\n",
      "Episode 3000, average return: 142.84\n",
      "Episode 3050, average return: 151.94\n",
      "Episode 3100, average return: 166.66\n",
      "Episode 3150, average return: 139.34\n",
      "Episode 3200, average return: 153.48\n",
      "Episode 3250, average return: 154.14000000000001\n",
      "Episode 3300, average return: 158.66\n",
      "Episode 3350, average return: 162.22\n",
      "Episode 3400, average return: 179.18\n",
      "Episode 3450, average return: 154.84\n",
      "Episode 3500, average return: 148.70000000000002\n",
      "Episode 3550, average return: 133.24\n",
      "Episode 3600, average return: 128.66\n",
      "Episode 3650, average return: 186.26\n",
      "Episode 3700, average return: 178.64000000000001\n",
      "Episode 3750, average return: 200.0\n",
      "Episode 3800, average return: 200.0\n",
      "Episode 3850, average return: 198.82\n",
      "Episode 3900, average return: 198.9\n",
      "Episode 3950, average return: 200.0\n",
      "Episode 4000, average return: 200.0\n",
      "Episode 4050, average return: 194.22\n",
      "Episode 4100, average return: 190.82\n"
     ]
    },
    {
     "data": {
      "image/png": "[encoded data removed]",
      "text/plain": [
       "<Figure size 432x288 with 1 Axes>"
      ]
     },
     "metadata": {},
     "output_type": "display_data"
    }
   ],
   "source": [
    "env = gym.make(\"CartPole-v0\")\n",
    "env.reset()\n",
    "agent = SimpleHillClimber(\n",
    "    env.observation_space, env.action_space, \n",
    "    max_episode_length=200, num_episodes_per_test=100, alpha=0.1)\n",
    "\n",
    "t = 0\n",
    "average_returns = [0,0,0,0,0,0,0,0,0,0,0]\n",
    "while np.min(average_returns[-10:-1]) < 150:\n",
    "\n",
    "    # Run the agent in the environment\n",
    "    R = run_agent(env, agent, render=False)\n",
    "\n",
    "    # Monitoring\n",
    "    average_returns.append(R)\n",
    "    t += 1\n",
    "\n",
    "    print(\"Episode {0}, average return: {1}\".format(t*50, R))\n",
    "\n",
    "plt.plot(range(len(average_returns)),average_returns)\n",
    "plt.title(\"Average reward on 100 episodes\")\n",
    "plt.xlabel(\"Training Steps\")\n",
    "plt.ylabel(\"Reward\")\n",
    "plt.show()"
   ]
  },
  {
   "cell_type": "markdown",
   "metadata": {},
   "source": [
    "**Exercise 2.3**: Run the agent for a single episode to see an animation of your trained agent."
   ]
  },
  {
   "cell_type": "code",
   "execution_count": 27,
   "metadata": {},
   "outputs": [
    {
     "name": "stdout",
     "output_type": "stream",
     "text": [
      "200.0\n"
     ]
    },
    {
     "data": {
      "image/png": "[encoded data removed]",
      "text/plain": [
       "<Figure size 648x648 with 1 Axes>"
      ]
     },
     "metadata": {},
     "output_type": "display_data"
    }
   ],
   "source": [
    "# Finished, show animation; training curve\n",
    "R = run_agent(env, agent, num_epsiodes=1, render=True)\n",
    "print(R)\n"
   ]
  },
  {
   "cell_type": "markdown",
   "metadata": {},
   "source": [
    "## Going further\n",
    "\n",
    "There are a number of improvements that you can make to the simple hill climber we made here.  For example, you can use simulated annealing or beam search which you saw in the last lecture.  If you have time, consider adding one or more of these improvements.  Finally, the agent and code we created above is completely general.  Therefore you can try running on other environments.  For a complete list, look [here](https://gym.openai.com/docs/#available-environments)."
   ]
  },
  {
   "cell_type": "code",
   "execution_count": null,
   "metadata": {},
   "outputs": [],
   "source": []
  }
 ],
 "metadata": {
  "kernelspec": {
   "display_name": "Python [default]",
   "language": "python",
   "name": "python3"
  },
  "language_info": {
   "codemirror_mode": {
    "name": "ipython",
    "version": 3
   },
   "file_extension": ".py",
   "mimetype": "text/x-python",
   "name": "python",
   "nbconvert_exporter": "python",
   "pygments_lexer": "ipython3",
   "version": "3.6.8"
  }
 },
 "nbformat": 4,
 "nbformat_minor": 2
}
